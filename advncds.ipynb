{
 "cells": [
  {
   "cell_type": "code",
   "execution_count": 2,
   "id": "7d67835b-5b79-4c57-bc69-c7d5ffd4b203",
   "metadata": {},
   "outputs": [
    {
     "name": "stdout",
     "output_type": "stream",
     "text": [
      "Original String: Hello, World!\n",
      "Reversed String: !dlroW ,olleH\n"
     ]
    }
   ],
   "source": [
    "#1. Write a code to reverse a string.\n",
    "#code -\n",
    "def reverse_string(input_string):\n",
    "    \"\"\"\n",
    "    Function to reverse a string.\n",
    "\n",
    "    Args:\n",
    "    input_string (str): The string to reverse.\n",
    "\n",
    "    Returns:\n",
    "    str: The reversed string.\n",
    "    \"\"\"\n",
    "    return input_string[::-1]  # Slicing to reverse the string\n",
    "\n",
    "# Example usage\n",
    "original_string = \"Hello, World!\"\n",
    "reversed_string = reverse_string(original_string)\n",
    "\n",
    "print(\"Original String:\", original_string)\n",
    "print(\"Reversed String:\", reversed_string)\n",
    "\n"
   ]
  },
  {
   "cell_type": "code",
   "execution_count": 3,
   "id": "2a5a81bc-ebe1-4529-a48e-ff442b49dd41",
   "metadata": {},
   "outputs": [
    {
     "name": "stdout",
     "output_type": "stream",
     "text": [
      "Input String: Hello, World!\n",
      "Number of Vowels: 3\n"
     ]
    }
   ],
   "source": [
    "#2. Write a code to count the number of vowels in a string.\n",
    "#code -\n",
    "def count_vowels(input_string):\n",
    "    \"\"\"\n",
    "    Function to count the number of vowels in a string.\n",
    "\n",
    "    Args:\n",
    "    input_string (str): The string to process.\n",
    "\n",
    "    Returns:\n",
    "    int: The count of vowels in the string.\n",
    "    \"\"\"\n",
    "    vowels = \"aeiouAEIOU\"  # Define vowels (both lowercase and uppercase)\n",
    "    return sum(1 for char in input_string if char in vowels)\n",
    "\n",
    "# Example usage\n",
    "test_string = \"Hello, World!\"\n",
    "vowel_count = count_vowels(test_string)\n",
    "\n",
    "print(\"Input String:\", test_string)\n",
    "print(\"Number of Vowels:\", vowel_count)\n",
    "\n",
    "\n"
   ]
  },
  {
   "cell_type": "code",
   "execution_count": 7,
   "id": "9f7a09b8-e0d3-41ad-aade-3bcafacb7fdb",
   "metadata": {},
   "outputs": [
    {
     "name": "stdout",
     "output_type": "stream",
     "text": [
      "\"Radar\" is a palindrome.\n"
     ]
    }
   ],
   "source": [
    "#3. Write a code to check if a given string is a palindrome or not.\n",
    "#code -\n",
    "def is_palindrome(input_string):\n",
    "    \"\"\"\n",
    "    Function to check if a given string is a palindrome.\n",
    "\n",
    "    Args:\n",
    "    input_string (str): The string to check.\n",
    "\n",
    "    Returns:\n",
    "    bool: True if the string is a palindrome, False otherwise.\n",
    "    \"\"\"\n",
    "    # Remove spaces and convert to lowercase for case-insensitive comparison\n",
    "    sanitized_string = ''.join(input_string.lower().split())\n",
    "    return sanitized_string == sanitized_string[::-1]\n",
    "\n",
    "# Example usage\n",
    "if __name__ == \"__main__\":\n",
    "    test_string = \"Radar\"\n",
    "    if is_palindrome(test_string):\n",
    "        print(f'\"{test_string}\" is a palindrome.')\n",
    "    else:\n",
    "        print(f'\"{test_string}\" is not a palindrome.')\n"
   ]
  },
  {
   "cell_type": "code",
   "execution_count": 8,
   "id": "43a259fb-92ff-4012-ab8d-363fa5835c80",
   "metadata": {},
   "outputs": [
    {
     "name": "stdout",
     "output_type": "stream",
     "text": [
      "\"Listen\" and \"Silent\" are anagrams.\n"
     ]
    }
   ],
   "source": [
    "#4. Write a code to check if two given strings are anagrams of each others.\n",
    "#code -\n",
    "def are_anagrams(string1, string2):\n",
    "    \"\"\"\n",
    "    Function to check if two strings are anagrams of each other.\n",
    "\n",
    "    Args:\n",
    "    string1 (str): The first string.\n",
    "    string2 (str): The second string.\n",
    "\n",
    "    Returns:\n",
    "    bool: True if the strings are anagrams, False otherwise.\n",
    "    \"\"\"\n",
    "    # Remove spaces and convert to lowercase for case-insensitive comparison\n",
    "    sanitized_string1 = ''.join(string1.lower().split())\n",
    "    sanitized_string2 = ''.join(string2.lower().split())\n",
    "    \n",
    "    # Sort both strings and compare\n",
    "    return sorted(sanitized_string1) == sorted(sanitized_string2)\n",
    "\n",
    "# Example usage\n",
    "if __name__ == \"__main__\":\n",
    "    str1 = \"Listen\"\n",
    "    str2 = \"Silent\"\n",
    "    \n",
    "    if are_anagrams(str1, str2):\n",
    "        print(f'\"{str1}\" and \"{str2}\" are anagrams.')\n",
    "    else:\n",
    "        print(f'\"{str1}\" and \"{str2}\" are not anagrams.')\n"
   ]
  },
  {
   "cell_type": "code",
   "execution_count": 10,
   "id": "18010934-2b98-4c96-ad51-1a766a4a4dad",
   "metadata": {},
   "outputs": [
    {
     "name": "stdout",
     "output_type": "stream",
     "text": [
      "The substring 'test' appears 2 times.\n"
     ]
    }
   ],
   "source": [
    "#5. Write a code to find all occurrences of a given substring within another string.\n",
    "#code - \n",
    "def count_substring_occurrences(main_string, substring):\n",
    "    \"\"\"\n",
    "    Function to count all occurrences of a given substring within a string.\n",
    "\n",
    "    Args:\n",
    "    main_string (str): The main string where we search.\n",
    "    substring (str): The substring to search for.\n",
    "\n",
    "    Returns:\n",
    "    int: The count of occurrences of the substring.\n",
    "    \"\"\"\n",
    "    count = 0\n",
    "    index = 0  # Start at the beginning of the main string\n",
    "    \n",
    "    while index < len(main_string):\n",
    "        # Find the substring starting from the current index\n",
    "        index = main_string.find(substring, index)\n",
    "        \n",
    "        if index == -1:  # No more occurrences found\n",
    "            break\n",
    "        \n",
    "        count += 1  # Increment the count\n",
    "        index += 1  # Move index forward to find the next occurrence\n",
    "        \n",
    "    return count\n",
    "\n",
    "# Example usage\n",
    "main_string = \"This is a test string. This test is simple.\"\n",
    "substring = \"test\"\n",
    "\n",
    "count = count_substring_occurrences(main_string, substring)\n",
    "print(f\"The substring '{substring}' appears {count} times.\")\n"
   ]
  },
  {
   "cell_type": "code",
   "execution_count": 11,
   "id": "2af6fc0c-211e-4d6e-a7f5-28ba97d7d164",
   "metadata": {},
   "outputs": [
    {
     "name": "stdout",
     "output_type": "stream",
     "text": [
      "Original String: aaabbbccdddda\n",
      "Compressed String: a3b3c2d4a1\n"
     ]
    }
   ],
   "source": [
    "#6. Write a code to perform basic string compression using the counts of repeated characters.\n",
    "#code - \n",
    "def compress_string(input_string):\n",
    "    \"\"\"\n",
    "    Function to compress a string by counting the occurrences of repeated characters.\n",
    "\n",
    "    Args:\n",
    "    input_string (str): The string to compress.\n",
    "\n",
    "    Returns:\n",
    "    str: The compressed string.\n",
    "    \"\"\"\n",
    "    if not input_string:\n",
    "        return \"\"\n",
    "\n",
    "    compressed = []\n",
    "    count = 1\n",
    "    \n",
    "    # Loop through the string starting from the second character\n",
    "    for i in range(1, len(input_string)):\n",
    "        # If the current character is the same as the previous one, increment count\n",
    "        if input_string[i] == input_string[i - 1]:\n",
    "            count += 1\n",
    "        else:\n",
    "            # Append the character and its count to the compressed list\n",
    "            compressed.append(input_string[i - 1] + str(count))\n",
    "            count = 1  # Reset the count for the next character\n",
    "\n",
    "    # Add the last character and its count\n",
    "    compressed.append(input_string[-1] + str(count))\n",
    "\n",
    "    return ''.join(compressed)\n",
    "\n",
    "# Example usage\n",
    "input_string = \"aaabbbccdddda\"\n",
    "compressed_string = compress_string(input_string)\n",
    "print(f\"Original String: {input_string}\")\n",
    "print(f\"Compressed String: {compressed_string}\")\n"
   ]
  },
  {
   "cell_type": "code",
   "execution_count": 12,
   "id": "f002d442-588b-445d-a7c3-2da69f7acaf7",
   "metadata": {},
   "outputs": [
    {
     "name": "stdout",
     "output_type": "stream",
     "text": [
      "Does the string 'abcdefg' have all unique characters? True\n",
      "Does the string 'aabbcc' have all unique characters? False\n"
     ]
    }
   ],
   "source": [
    "#7. Write a code to determine if a string has all unique charecters.\n",
    "#code -\n",
    "def has_unique_characters(input_string):\n",
    "    \"\"\"\n",
    "    Function to check if a string has all unique characters.\n",
    "\n",
    "    Args:\n",
    "    input_string (str): The string to check.\n",
    "\n",
    "    Returns:\n",
    "    bool: True if all characters are unique, False otherwise.\n",
    "    \"\"\"\n",
    "    # Use a set to store characters we've seen\n",
    "    seen_characters = set()\n",
    "\n",
    "    for char in input_string:\n",
    "        if char in seen_characters:\n",
    "            # If the character is already in the set, it's not unique\n",
    "            return False\n",
    "        seen_characters.add(char)\n",
    "\n",
    "    return True\n",
    "\n",
    "# Example usage\n",
    "input_string = \"abcdefg\"\n",
    "result = has_unique_characters(input_string)\n",
    "print(f\"Does the string '{input_string}' have all unique characters? {result}\")\n",
    "\n",
    "input_string = \"aabbcc\"\n",
    "result = has_unique_characters(input_string)\n",
    "print(f\"Does the string '{input_string}' have all unique characters? {result}\")\n"
   ]
  },
  {
   "cell_type": "code",
   "execution_count": 13,
   "id": "e5e6566c-8889-48e7-a49b-7f1bbf68df44",
   "metadata": {},
   "outputs": [
    {
     "name": "stdout",
     "output_type": "stream",
     "text": [
      "Uppercase: HELLO, WORLD!\n",
      "Lowercase: hello, world!\n"
     ]
    }
   ],
   "source": [
    "#8. Write a code to convert a given string to uppercase or lowercase.\n",
    "#code -\n",
    "def convert_case(input_string, to_upper=True):\n",
    "    \"\"\"\n",
    "    Function to convert the case of the given string.\n",
    "\n",
    "    Args:\n",
    "    input_string (str): The string to convert.\n",
    "    to_upper (bool): If True, convert to uppercase. If False, convert to lowercase.\n",
    "\n",
    "    Returns:\n",
    "    str: The string after converting its case.\n",
    "    \"\"\"\n",
    "    if to_upper:\n",
    "        return input_string.upper()  # Convert to uppercase\n",
    "    else:\n",
    "        return input_string.lower()  # Convert to lowercase\n",
    "\n",
    "# Example usage\n",
    "input_string = \"Hello, World!\"\n",
    "\n",
    "# Convert to uppercase\n",
    "upper_case_string = convert_case(input_string, to_upper=True)\n",
    "print(\"Uppercase:\", upper_case_string)\n",
    "\n",
    "# Convert to lowercase\n",
    "lower_case_string = convert_case(input_string, to_upper=False)\n",
    "print(\"Lowercase:\", lower_case_string)\n"
   ]
  },
  {
   "cell_type": "code",
   "execution_count": 14,
   "id": "d26abe26-4e29-4adb-aa23-7f8509debad2",
   "metadata": {},
   "outputs": [
    {
     "name": "stdout",
     "output_type": "stream",
     "text": [
      "The number of words in the string is: 5\n"
     ]
    }
   ],
   "source": [
    "#9. Write a code to count the number of words in a string.\n",
    "#code -\n",
    "def count_words(input_string):\n",
    "    \"\"\"\n",
    "    Function to count the number of words in a given string.\n",
    "\n",
    "    Args:\n",
    "    input_string (str): The string to process.\n",
    "\n",
    "    Returns:\n",
    "    int: The count of words in the string.\n",
    "    \"\"\"\n",
    "    # Split the string into words based on spaces and count the number of words\n",
    "    words = input_string.split()\n",
    "    \n",
    "    # Return the number of words\n",
    "    return len(words)\n",
    "\n",
    "# Example usage\n",
    "input_string = \"This is an example sentence.\"\n",
    "word_count = count_words(input_string)\n",
    "print(f\"The number of words in the string is: {word_count}\")\n"
   ]
  },
  {
   "cell_type": "code",
   "execution_count": 53,
   "id": "8c9ff1ca-865d-47da-9313-2a6c93f57248",
   "metadata": {},
   "outputs": [
    {
     "name": "stdout",
     "output_type": "stream",
     "text": [
      "Concatenated String: Hello World\n"
     ]
    }
   ],
   "source": [
    "#10. Write a code to concatenate two strings without using the + operator.\n",
    "#code-\n",
    "def concatenate_strings(str1, str2):\n",
    "    \"\"\"\n",
    "    Function to concatenate two strings without using the '+' operator.\n",
    "\n",
    "    Args:\n",
    "    str1 (str): The first string.\n",
    "    str2 (str): The second string.\n",
    "\n",
    "    Returns:\n",
    "    str: The concatenated string.\n",
    "    \"\"\"\n",
    "    return ' '.join([str1, str2])  # Joining both strings in the list\n",
    "\n",
    "# Example usage\n",
    "str1 = \"Hello\"\n",
    "str2 = \"World\"\n",
    "result = concatenate_strings(str1, str2)\n",
    "\n",
    "print(\"Concatenated String:\", result)\n",
    "\n",
    "\n",
    "\n"
   ]
  },
  {
   "cell_type": "code",
   "execution_count": 19,
   "id": "e6503e53-0bc5-49f9-9854-88db6dce836a",
   "metadata": {},
   "outputs": [
    {
     "name": "stdout",
     "output_type": "stream",
     "text": [
      "Original List: [1, 2, 3, 4, 3, 5, 3]\n",
      "List after removing 3: [1, 2, 4, 5]\n"
     ]
    }
   ],
   "source": [
    "#11. Write a code to remove all occurrences of a specific element from a list.\n",
    "#code -\n",
    "def remove_element(lst, element):\n",
    "    \"\"\"\n",
    "    Function to remove all occurrences of a specific element from a list.\n",
    "\n",
    "    Args:\n",
    "    lst (list): The input list.\n",
    "    element: The element to remove from the list.\n",
    "\n",
    "    Returns:\n",
    "    list: A new list with the specified element removed.\n",
    "    \"\"\"\n",
    "    return [x for x in lst if x != element]\n",
    "\n",
    "# Example usage\n",
    "input_list = [1, 2, 3, 4, 3, 5, 3]\n",
    "element_to_remove = 3\n",
    "result = remove_element(input_list, element_to_remove)\n",
    "\n",
    "print(\"Original List:\", input_list)\n",
    "print(f\"List after removing {element_to_remove}:\", result)\n"
   ]
  },
  {
   "cell_type": "code",
   "execution_count": 20,
   "id": "70584038-b449-4842-8ead-1d16baceda4f",
   "metadata": {},
   "outputs": [
    {
     "name": "stdout",
     "output_type": "stream",
     "text": [
      "List of numbers: [4, 7, 1, 9, 7, 4, 10]\n",
      "Second largest number: 9\n"
     ]
    }
   ],
   "source": [
    "#12. Implement a code to find the second largest number in a given list of integers.\n",
    "#code -\n",
    "def find_second_largest(numbers):\n",
    "    \"\"\"\n",
    "    Function to find the second largest number in a list of integers.\n",
    "\n",
    "    Args:\n",
    "    numbers (list): A list of integers.\n",
    "\n",
    "    Returns:\n",
    "    int: The second largest number in the list.\n",
    "    \"\"\"\n",
    "    if len(numbers) < 2:\n",
    "        raise ValueError(\"List must contain at least two distinct numbers.\")\n",
    "\n",
    "    # Remove duplicates to handle cases like [1, 2, 2]\n",
    "    unique_numbers = list(set(numbers))\n",
    "\n",
    "    if len(unique_numbers) < 2:\n",
    "        raise ValueError(\"List must contain at least two distinct numbers.\")\n",
    "    \n",
    "    # Sort the list in descending order\n",
    "    unique_numbers.sort(reverse=True)\n",
    "\n",
    "    # Return the second largest number\n",
    "    return unique_numbers[1]\n",
    "\n",
    "# Example usage\n",
    "numbers = [4, 7, 1, 9, 7, 4, 10]\n",
    "second_largest = find_second_largest(numbers)\n",
    "\n",
    "print(\"List of numbers:\", numbers)\n",
    "print(\"Second largest number:\", second_largest)\n",
    "\n"
   ]
  },
  {
   "cell_type": "code",
   "execution_count": 21,
   "id": "754e4b0b-2ebe-4a2b-a0d1-f0e4940ecac8",
   "metadata": {},
   "outputs": [
    {
     "name": "stdout",
     "output_type": "stream",
     "text": [
      "Input List: [1, 2, 2, 3, 4, 3, 3, 5, 1, 4, 4]\n",
      "Occurrences: {1: 2, 2: 2, 3: 3, 4: 3, 5: 1}\n"
     ]
    }
   ],
   "source": [
    "#13. Create a code to count the occurrences of each element in a list and return a dictionary with elements as keys and their counts as value.\n",
    "#code -\n",
    "def count_occurrences(lst):\n",
    "    \"\"\"\n",
    "    Function to count the occurrences of each element in a list.\n",
    "\n",
    "    Args:\n",
    "    lst (list): The input list.\n",
    "\n",
    "    Returns:\n",
    "    dict: A dictionary with elements as keys and their counts as values.\n",
    "    \"\"\"\n",
    "    occurrence_dict = {}\n",
    "    for element in lst:\n",
    "        if element in occurrence_dict:\n",
    "            occurrence_dict[element] += 1\n",
    "        else:\n",
    "            occurrence_dict[element] = 1\n",
    "    return occurrence_dict\n",
    "\n",
    "# Example usage\n",
    "input_list = [1, 2, 2, 3, 4, 3, 3, 5, 1, 4, 4]\n",
    "result = count_occurrences(input_list)\n",
    "\n",
    "print(\"Input List:\", input_list)\n",
    "print(\"Occurrences:\", result)\n"
   ]
  },
  {
   "cell_type": "code",
   "execution_count": 22,
   "id": "995239e4-0775-449b-87c7-8f0bf8968643",
   "metadata": {},
   "outputs": [
    {
     "name": "stdout",
     "output_type": "stream",
     "text": [
      "Original List: [1, 2, 3, 4, 5]\n",
      "Reversed List: [5, 4, 3, 2, 1]\n"
     ]
    }
   ],
   "source": [
    "#14. Write a code to reverse a list in-place without using any built-in reverse function.\n",
    "#code -\n",
    "def reverse_list(lst):\n",
    "    \"\"\"\n",
    "    Function to reverse a list in-place.\n",
    "\n",
    "    Args:\n",
    "    lst (list): The list to be reversed.\n",
    "\n",
    "    Returns:\n",
    "    None: The input list is modified in-place.\n",
    "    \"\"\"\n",
    "    left = 0\n",
    "    right = len(lst) - 1\n",
    "\n",
    "    while left < right:\n",
    "        # Swap the elements at the left and right indices\n",
    "        lst[left], lst[right] = lst[right], lst[left]\n",
    "        left += 1\n",
    "        right -= 1\n",
    "\n",
    "# Example usage\n",
    "input_list = [1, 2, 3, 4, 5]\n",
    "print(\"Original List:\", input_list)\n",
    "\n",
    "reverse_list(input_list)\n",
    "print(\"Reversed List:\", input_list)\n"
   ]
  },
  {
   "cell_type": "code",
   "execution_count": 23,
   "id": "961a0992-556d-49c7-8449-befca5ef1d7a",
   "metadata": {},
   "outputs": [
    {
     "name": "stdout",
     "output_type": "stream",
     "text": [
      "Original List: [4, 5, 6, 4, 2, 5, 1, 6, 7, 2]\n",
      "List without duplicates: [4, 5, 6, 2, 1, 7]\n"
     ]
    }
   ],
   "source": [
    "#15. Implement a code to find and remove duplicates from a list while preserving the original order of elements.\n",
    "#code -\n",
    "def remove_duplicates_preserve_order(lst):\n",
    "    \"\"\"\n",
    "    Function to remove duplicates from a list while preserving the original order of elements.\n",
    "\n",
    "    Args:\n",
    "    lst (list): The input list.\n",
    "\n",
    "    Returns:\n",
    "    list: A new list with duplicates removed.\n",
    "    \"\"\"\n",
    "    seen = set()\n",
    "    result = []\n",
    "    for element in lst:\n",
    "        if element not in seen:\n",
    "            result.append(element)\n",
    "            seen.add(element)\n",
    "    return result\n",
    "\n",
    "# Example usage\n",
    "input_list = [4, 5, 6, 4, 2, 5, 1, 6, 7, 2]\n",
    "result = remove_duplicates_preserve_order(input_list)\n",
    "\n",
    "print(\"Original List:\", input_list)\n",
    "print(\"List without duplicates:\", result)\n"
   ]
  },
  {
   "cell_type": "code",
   "execution_count": 24,
   "id": "c42baf87-a214-4c6c-9613-44c5eefee52b",
   "metadata": {},
   "outputs": [
    {
     "name": "stdout",
     "output_type": "stream",
     "text": [
      "List 1 is: Ascending\n",
      "List 2 is: Descending\n",
      "List 3 is: Not Sorted\n"
     ]
    }
   ],
   "source": [
    "#16. Create a code to check if a given list is sorted(either in ascending or descending order) or not.\n",
    "#code -\n",
    "def is_sorted(lst):\n",
    "    \"\"\"\n",
    "    Function to check if a list is sorted in ascending or descending order.\n",
    "\n",
    "    Args:\n",
    "    lst (list): The input list.\n",
    "\n",
    "    Returns:\n",
    "    str: \"Ascending\", \"Descending\", or \"Not Sorted\".\n",
    "    \"\"\"\n",
    "    if lst == sorted(lst):\n",
    "        return \"Ascending\"\n",
    "    elif lst == sorted(lst, reverse=True):\n",
    "        return \"Descending\"\n",
    "    else:\n",
    "        return \"Not Sorted\"\n",
    "\n",
    "# Example usage\n",
    "input_list1 = [1, 2, 3, 4, 5]\n",
    "input_list2 = [5, 4, 3, 2, 1]\n",
    "input_list3 = [3, 1, 4, 2]\n",
    "\n",
    "print(\"List 1 is:\", is_sorted(input_list1))  # Ascending\n",
    "print(\"List 2 is:\", is_sorted(input_list2))  # Descending\n",
    "print(\"List 3 is:\", is_sorted(input_list3))  # Not Sorted\n"
   ]
  },
  {
   "cell_type": "code",
   "execution_count": 25,
   "id": "058f814d-1e51-4e9f-a334-83e754517858",
   "metadata": {},
   "outputs": [
    {
     "name": "stdout",
     "output_type": "stream",
     "text": [
      "Merged Sorted List: [1, 2, 3, 4, 5, 6, 7, 8]\n"
     ]
    }
   ],
   "source": [
    "#17. Write a code to merge two sorted list into a single sorted list.\n",
    "#code -\n",
    "def merge_sorted_lists(list1, list2):\n",
    "    \"\"\"\n",
    "    Function to merge two sorted lists into a single sorted list.\n",
    "    \"\"\"\n",
    "    return sorted(list1 + list2)\n",
    "\n",
    "# Example usage\n",
    "list1 = [1, 3, 5, 7]\n",
    "list2 = [2, 4, 6, 8]\n",
    "result = merge_sorted_lists(list1, list2)\n",
    "\n",
    "print(\"Merged Sorted List:\", result)\n"
   ]
  },
  {
   "cell_type": "code",
   "execution_count": 26,
   "id": "79bd6bd0-aa8a-43a6-917e-55c34b0aeb94",
   "metadata": {},
   "outputs": [
    {
     "name": "stdout",
     "output_type": "stream",
     "text": [
      "Intersection of the two lists: [4, 5]\n"
     ]
    }
   ],
   "source": [
    "#18. Implement a code to find the intersection of two given lists.\n",
    "#code -\n",
    "def find_intersection(list1, list2):\n",
    "    \"\"\"\n",
    "    Function to find the intersection of two lists.\n",
    "\n",
    "    Args:\n",
    "    list1 (list): The first list.\n",
    "    list2 (list): The second list.\n",
    "\n",
    "    Returns:\n",
    "    list: A list containing the common elements between the two lists.\n",
    "    \"\"\"\n",
    "    return list(set(list1) & set(list2))\n",
    "\n",
    "# Example usage\n",
    "list1 = [1, 2, 3, 4, 5]\n",
    "list2 = [4, 5, 6, 7]\n",
    "result = find_intersection(list1, list2)\n",
    "\n",
    "print(\"Intersection of the two lists:\", result)\n"
   ]
  },
  {
   "cell_type": "code",
   "execution_count": 27,
   "id": "25ac4155-efc8-4916-892e-df0772b4f6e7",
   "metadata": {},
   "outputs": [
    {
     "name": "stdout",
     "output_type": "stream",
     "text": [
      "Union of the two lists: [1, 2, 3, 4, 5, 6, 7]\n"
     ]
    }
   ],
   "source": [
    "#19. Create a code to find the union of two lists without duplicates.\n",
    "#code -\n",
    "def find_union(list1, list2):\n",
    "    \"\"\"\n",
    "    Function to find the union of two lists without duplicates.\n",
    "\n",
    "    Args:\n",
    "    list1 (list): The first list.\n",
    "    list2 (list): The second list.\n",
    "\n",
    "    Returns:\n",
    "    list: A list containing the union of both lists without duplicates.\n",
    "    \"\"\"\n",
    "    return list(set(list1) | set(list2))\n",
    "\n",
    "# Example usage\n",
    "list1 = [1, 2, 3, 4, 5]\n",
    "list2 = [4, 5, 6, 7]\n",
    "result = find_union(list1, list2)\n",
    "\n",
    "print(\"Union of the two lists:\", result)\n"
   ]
  },
  {
   "cell_type": "code",
   "execution_count": 28,
   "id": "e60a25f5-e7f0-4f24-b088-94285552f360",
   "metadata": {},
   "outputs": [
    {
     "name": "stdout",
     "output_type": "stream",
     "text": [
      "Shuffled List: [5, 4, 1, 3, 2]\n"
     ]
    }
   ],
   "source": [
    "#20. Write a code to shuffle a given list randomly without using any built-in shuffle functions.\n",
    "#code -\n",
    "import random\n",
    "\n",
    "def shuffle_list(lst):\n",
    "    \"\"\"\n",
    "    Function to shuffle a list randomly without using built-in shuffle functions.\n",
    "\n",
    "    Args:\n",
    "    lst (list): The input list to shuffle.\n",
    "\n",
    "    Returns:\n",
    "    list: A shuffled version of the input list.\n",
    "    \"\"\"\n",
    "    n = len(lst)\n",
    "    for i in range(n):\n",
    "        # Generate a random index\n",
    "        j = random.randint(0, n-1)\n",
    "        # Swap the elements at i and j\n",
    "        lst[i], lst[j] = lst[j], lst[i]\n",
    "    return lst\n",
    "\n",
    "# Example usage\n",
    "input_list = [1, 2, 3, 4, 5]\n",
    "shuffled_list = shuffle_list(input_list)\n",
    "\n",
    "print(\"Shuffled List:\", shuffled_list)\n"
   ]
  },
  {
   "cell_type": "code",
   "execution_count": 29,
   "id": "c4dcf354-ff7d-4f39-ba0b-f8012ee5a9f0",
   "metadata": {},
   "outputs": [
    {
     "name": "stdout",
     "output_type": "stream",
     "text": [
      "Common Elements: (4, 5)\n"
     ]
    }
   ],
   "source": [
    "#21. Write a code that takes two tuples as input and returns a new tuple containing elements that are common to both input tuples.\n",
    "#code -\n",
    "def find_common_elements(tuple1, tuple2):\n",
    "    \"\"\"\n",
    "    Function to find common elements between two tuples.\n",
    "\n",
    "    Args:\n",
    "    tuple1 (tuple): The first input tuple.\n",
    "    tuple2 (tuple): The second input tuple.\n",
    "\n",
    "    Returns:\n",
    "    tuple: A tuple containing elements common to both input tuples.\n",
    "    \"\"\"\n",
    "    return tuple(set(tuple1) & set(tuple2))\n",
    "\n",
    "# Example usage\n",
    "tuple1 = (1, 2, 3, 4, 5)\n",
    "tuple2 = (4, 5, 6, 7, 8)\n",
    "common_elements = find_common_elements(tuple1, tuple2)\n",
    "\n",
    "print(\"Common Elements:\", common_elements)\n"
   ]
  },
  {
   "cell_type": "code",
   "execution_count": 30,
   "id": "458afb64-b0f9-4373-b918-213375412710",
   "metadata": {},
   "outputs": [
    {
     "name": "stdin",
     "output_type": "stream",
     "text": [
      "Enter the first set of integers (separated by commas):  1,2,3,4,5\n",
      "Enter the second set of integers (separated by commas):  4,5,6,7,8\n"
     ]
    },
    {
     "name": "stdout",
     "output_type": "stream",
     "text": [
      "Intersection of the two sets: {4, 5}\n"
     ]
    }
   ],
   "source": [
    "#22. Create a code that prompts the user to enter two sets of integers separated by commands.Then print the intersection of these two sets.\n",
    "#code -\n",
    "def get_set_from_input(prompt):\n",
    "    \"\"\"\n",
    "    Function to prompt the user to input a set of integers separated by commas.\n",
    "\n",
    "    Args:\n",
    "    prompt (str): The input prompt for the user.\n",
    "\n",
    "    Returns:\n",
    "    set: A set of integers entered by the user.\n",
    "    \"\"\"\n",
    "    user_input = input(prompt)\n",
    "    return set(map(int, user_input.split(',')))\n",
    "\n",
    "# Prompt user for input\n",
    "set1 = get_set_from_input(\"Enter the first set of integers (separated by commas): \")\n",
    "set2 = get_set_from_input(\"Enter the second set of integers (separated by commas): \")\n",
    "\n",
    "# Find the intersection\n",
    "intersection = set1 & set2\n",
    "\n",
    "# Print the result\n",
    "print(\"Intersection of the two sets:\", intersection)\n"
   ]
  },
  {
   "cell_type": "code",
   "execution_count": 31,
   "id": "0b398b89-86a0-4cf7-9e31-474525f455aa",
   "metadata": {},
   "outputs": [
    {
     "name": "stdout",
     "output_type": "stream",
     "text": [
      "Concatenated Tuple: (1, 2, 3, 4, 5, 6)\n"
     ]
    }
   ],
   "source": [
    "#23. Write a code to concatenate two tuples.The functin should take two tuples as input and return a new tuple containing elements from both input tuples.\n",
    "#code -\n",
    "def concatenate_tuples(tuple1, tuple2):\n",
    "    \"\"\"\n",
    "    Function to concatenate two tuples.\n",
    "\n",
    "    Args:\n",
    "    tuple1 (tuple): The first input tuple.\n",
    "    tuple2 (tuple): The second input tuple.\n",
    "\n",
    "    Returns:\n",
    "    tuple: A new tuple containing elements from both input tuples.\n",
    "    \"\"\"\n",
    "    return tuple1 + tuple2\n",
    "\n",
    "# Example usage\n",
    "tuple1 = (1, 2, 3)\n",
    "tuple2 = (4, 5, 6)\n",
    "result = concatenate_tuples(tuple1, tuple2)\n",
    "\n",
    "print(\"Concatenated Tuple:\", result)\n"
   ]
  },
  {
   "cell_type": "code",
   "execution_count": 32,
   "id": "9df37add-77bb-4e88-a80e-ce4054723cb4",
   "metadata": {},
   "outputs": [
    {
     "name": "stdin",
     "output_type": "stream",
     "text": [
      "Enter the first set of strings (separated by commas):  apple,banana,cherry\n",
      "Enter the second set of strings (separated by commas):  banana,grape\n"
     ]
    },
    {
     "name": "stdout",
     "output_type": "stream",
     "text": [
      "Elements in the first set but not in the second set: {'cherry', 'apple'}\n"
     ]
    }
   ],
   "source": [
    "#24. Develop a code that prompts the user to input two sets of string.Then print the elements that are present in the first set but not in the second set.\n",
    "#code -\n",
    "def get_set_from_input(prompt):\n",
    "    \"\"\"\n",
    "    Function to prompt the user to input a set of strings separated by commas.\n",
    "\n",
    "    Args:\n",
    "    prompt (str): The input prompt for the user.\n",
    "\n",
    "    Returns:\n",
    "    set: A set of strings entered by the user.\n",
    "    \"\"\"\n",
    "    user_input = input(prompt)\n",
    "    return set(user_input.split(','))\n",
    "\n",
    "# Prompt user for input\n",
    "set1 = get_set_from_input(\"Enter the first set of strings (separated by commas): \")\n",
    "set2 = get_set_from_input(\"Enter the second set of strings (separated by commas): \")\n",
    "\n",
    "# Find the difference\n",
    "difference = set1 - set2\n",
    "\n",
    "# Print the result\n",
    "print(\"Elements in the first set but not in the second set:\", difference)\n"
   ]
  },
  {
   "cell_type": "code",
   "execution_count": 33,
   "id": "d09c8a08-9247-4df8-bb1f-0edaf189f7b6",
   "metadata": {},
   "outputs": [
    {
     "name": "stdout",
     "output_type": "stream",
     "text": [
      "Original Tuple: (10, 20, 30, 40, 50, 60)\n",
      "Tuple from index 2 to 5 (exclusive): (30, 40, 50)\n"
     ]
    }
   ],
   "source": [
    "#25. Create a code that takes a tuple and two integers as input.The function should return a new tuple containing elements from the original tuple within the specified range of indices.\n",
    "#code -\n",
    "def slice_tuple(input_tuple, start_index, end_index):\n",
    "    \"\"\"\n",
    "    Function to return a new tuple containing elements from the original tuple \n",
    "    within the specified range of indices.\n",
    "\n",
    "    Args:\n",
    "    input_tuple (tuple): The original tuple.\n",
    "    start_index (int): The starting index (inclusive).\n",
    "    end_index (int): The ending index (exclusive).\n",
    "\n",
    "    Returns:\n",
    "    tuple: A tuple containing elements within the specified range.\n",
    "    \"\"\"\n",
    "    return input_tuple[start_index:end_index]\n",
    "\n",
    "# Example usage\n",
    "input_tuple = (10, 20, 30, 40, 50, 60)\n",
    "start = 2\n",
    "end = 5\n",
    "result = slice_tuple(input_tuple, start, end)\n",
    "\n",
    "print(\"Original Tuple:\", input_tuple)\n",
    "print(f\"Tuple from index {start} to {end} (exclusive):\", result)\n"
   ]
  },
  {
   "cell_type": "code",
   "execution_count": 34,
   "id": "81361b3e-b496-4cc9-8873-225c585b1fc3",
   "metadata": {},
   "outputs": [
    {
     "name": "stdin",
     "output_type": "stream",
     "text": [
      "Enter the first set of characters (separated by commas):  a,b,c,d\n",
      "Enter the second set of characters (separated by commas):  c,d,e,f\n"
     ]
    },
    {
     "name": "stdout",
     "output_type": "stream",
     "text": [
      "Union of the two sets: {'d', 'c', 'b', 'f', 'a', 'e'}\n"
     ]
    }
   ],
   "source": [
    "#26. Write a code that prompts the user to input two sets of charecters.Then print the union of these two sets.\n",
    "#code -\n",
    "def get_set_from_input(prompt):\n",
    "    \"\"\"\n",
    "    Function to prompt the user to input a set of characters separated by commas.\n",
    "\n",
    "    Args:\n",
    "    prompt (str): The input prompt for the user.\n",
    "\n",
    "    Returns:\n",
    "    set: A set of characters entered by the user.\n",
    "    \"\"\"\n",
    "    user_input = input(prompt)\n",
    "    return set(user_input.split(','))\n",
    "\n",
    "# Prompt user for input\n",
    "set1 = get_set_from_input(\"Enter the first set of characters (separated by commas): \")\n",
    "set2 = get_set_from_input(\"Enter the second set of characters (separated by commas): \")\n",
    "\n",
    "# Find the union\n",
    "union_set = set1 | set2\n",
    "\n",
    "# Print the result\n",
    "print(\"Union of the two sets:\", union_set)\n"
   ]
  },
  {
   "cell_type": "code",
   "execution_count": 35,
   "id": "fee29c87-9cfa-4ba8-9fce-4f38ff18160b",
   "metadata": {},
   "outputs": [
    {
     "name": "stdout",
     "output_type": "stream",
     "text": [
      "Input Tuple: (3, 7, 1, 9, 2, 8)\n",
      "Maximum Value: 9, Minimum Value: 1\n"
     ]
    }
   ],
   "source": [
    "#27. Develop a code that takes a tuple of integers as input.The function should return the maximum and minimum values from the tuple using tuple unpacking.\n",
    "#code -\n",
    "def find_max_and_min(input_tuple):\n",
    "    \"\"\"\n",
    "    Function to find the maximum and minimum values in a tuple of integers.\n",
    "\n",
    "    Args:\n",
    "    input_tuple (tuple): The tuple of integers.\n",
    "\n",
    "    Returns:\n",
    "    tuple: A tuple containing the maximum and minimum values.\n",
    "    \"\"\"\n",
    "    max_val, min_val = max(input_tuple), min(input_tuple)\n",
    "    return max_val, min_val  # Return as a tuple using tuple unpacking\n",
    "\n",
    "# Example usage\n",
    "input_tuple = (3, 7, 1, 9, 2, 8)\n",
    "max_val, min_val = find_max_and_min(input_tuple)\n",
    "\n",
    "print(\"Input Tuple:\", input_tuple)\n",
    "print(f\"Maximum Value: {max_val}, Minimum Value: {min_val}\")\n"
   ]
  },
  {
   "cell_type": "code",
   "execution_count": 43,
   "id": "2c47c50a-0e8a-42d0-83d9-e8989384d36b",
   "metadata": {},
   "outputs": [
    {
     "name": "stdout",
     "output_type": "stream",
     "text": [
      "Union of the sets: {1, 2, 3, 4, 5, 6, 7, 8}\n",
      "Intersection of the sets: {4, 5}\n",
      "Difference of the sets (set1 - set2): [1, 2, 3]\n",
      "Difference of the sets (set2 - set1): [6, 7, 8]\n"
     ]
    }
   ],
   "source": [
    "#28. Create a code that defines two set of integers.Then print the union,intersection and difference of these two sets.\n",
    "#code -\n",
    "def set_operations(set1, set2):\n",
    "    \"\"\"\n",
    "    Function to perform union, intersection, and difference operations on two sets.\n",
    "\n",
    "    Args:\n",
    "    set1 (set): The first set of integers.\n",
    "    set2 (set): The second set of integers.\n",
    "\n",
    "    Returns:\n",
    "    None\n",
    "    \"\"\"\n",
    "    # Perform operations\n",
    "    union_result = set1 | set2\n",
    "    intersection_result = set1 & set2\n",
    "    difference_result1 = set1 - set2\n",
    "    difference_result2 = set2 - set1\n",
    "\n",
    "    # Print results\n",
    "    print(\"Union of the sets:\", union_result)\n",
    "    print(\"Intersection of the sets:\", intersection_result)\n",
    "    print(\"Difference of the sets (set1 - set2):\", sorted(difference_result1))\n",
    "    print(\"Difference of the sets (set2 - set1):\", sorted(difference_result2))\n",
    "\n",
    "# Example sets\n",
    "set1 = {1, 2, 3, 4, 5}\n",
    "set2 = {4, 5, 6, 7, 8}\n",
    "\n",
    "# Perform operations and print results\n",
    "set_operations(set1, set2)\n"
   ]
  },
  {
   "cell_type": "code",
   "execution_count": 44,
   "id": "3fed2ae0-1394-463f-9ac5-e7671579ddf8",
   "metadata": {},
   "outputs": [
    {
     "name": "stdin",
     "output_type": "stream",
     "text": [
      "Enter the element to count:  2\n"
     ]
    },
    {
     "name": "stdout",
     "output_type": "stream",
     "text": [
      "The element 2 occurs 3 times in the tuple.\n"
     ]
    }
   ],
   "source": [
    "#29. Write a code that takes a tuple and an element as input.The function should return the count of occurrences of the given element in the tuple.\n",
    "#code -\n",
    "def count_occurrences(input_tuple, element):\n",
    "    \"\"\"\n",
    "    Function to count the occurrences of an element in a tuple.\n",
    "\n",
    "    Args:\n",
    "    input_tuple (tuple): The tuple to search in.\n",
    "    element: The element whose count is to be found.\n",
    "\n",
    "    Returns:\n",
    "    int: The count of occurrences of the element in the tuple.\n",
    "    \"\"\"\n",
    "    return input_tuple.count(element)\n",
    "\n",
    "# Example usage\n",
    "input_tuple = (1, 2, 3, 4, 2, 2, 5)\n",
    "element = int(input(\"Enter the element to count: \"))\n",
    "\n",
    "# Call the function and print the result\n",
    "occurrences = count_occurrences(input_tuple, element)\n",
    "print(f\"The element {element} occurs {occurrences} times in the tuple.\")\n"
   ]
  },
  {
   "cell_type": "code",
   "execution_count": 45,
   "id": "7f56f994-0444-4c70-9cd2-1f48008c52fc",
   "metadata": {},
   "outputs": [
    {
     "name": "stdin",
     "output_type": "stream",
     "text": [
      "Enter the first set of strings (comma separated):  apple,banana,grape,orange\n",
      "Enter the second set of strings (comma separated):  banana,kiwi,orange,mango\n"
     ]
    },
    {
     "name": "stdout",
     "output_type": "stream",
     "text": [
      "Symmetric Difference of the two sets: {'kiwi', 'mango', 'grape', 'apple'}\n"
     ]
    }
   ],
   "source": [
    "#30. Develop a code that prompts the user to input two sets of strings.Then print the symmetric difference of these two sets.\n",
    "#code -\n",
    "def symmetric_difference(set1, set2):\n",
    "    \"\"\"\n",
    "    Function to find the symmetric difference of two sets of strings.\n",
    "\n",
    "    Args:\n",
    "    set1 (set): The first set of strings.\n",
    "    set2 (set): The second set of strings.\n",
    "\n",
    "    Returns:\n",
    "    set: The symmetric difference of the two sets.\n",
    "    \"\"\"\n",
    "    return set1 ^ set2  # Symmetric difference using the ^ operator\n",
    "\n",
    "# Prompt the user to input the first set\n",
    "set1_input = input(\"Enter the first set of strings (comma separated): \")\n",
    "set1 = set(set1_input.split(','))\n",
    "\n",
    "# Prompt the user to input the second set\n",
    "set2_input = input(\"Enter the second set of strings (comma separated): \")\n",
    "set2 = set(set2_input.split(','))\n",
    "\n",
    "# Get the symmetric difference and print it\n",
    "symmetric_diff = symmetric_difference(set1, set2)\n",
    "print(\"Symmetric Difference of the two sets:\", symmetric_diff)\n"
   ]
  },
  {
   "cell_type": "code",
   "execution_count": 46,
   "id": "36cc837f-1b60-44b0-abda-4046a1ad0d72",
   "metadata": {},
   "outputs": [
    {
     "name": "stdin",
     "output_type": "stream",
     "text": [
      "Enter a list of words separated by spaces:  apple banana orange apple banana apple\n"
     ]
    },
    {
     "name": "stdout",
     "output_type": "stream",
     "text": [
      "Word Frequencies: {'apple': 3, 'banana': 2, 'orange': 1}\n"
     ]
    }
   ],
   "source": [
    "#31. Write a code that takes a list of words as input and returns a dictionary where the keys are unique words and the values are the frequencies of those words in the input list.\n",
    "#code -\n",
    "def word_frequencies(word_list):\n",
    "    \"\"\"\n",
    "    Function to count the frequency of each word in the input list.\n",
    "\n",
    "    Args:\n",
    "    word_list (list): The list of words.\n",
    "\n",
    "    Returns:\n",
    "    dict: A dictionary with words as keys and their frequencies as values.\n",
    "    \"\"\"\n",
    "    frequency_dict = {}\n",
    "    \n",
    "    for word in word_list:\n",
    "        # Increment the count for each word in the dictionary\n",
    "        frequency_dict[word] = frequency_dict.get(word, 0) + 1\n",
    "    \n",
    "    return frequency_dict\n",
    "\n",
    "# Example usage\n",
    "input_words = input(\"Enter a list of words separated by spaces: \").split()\n",
    "\n",
    "# Get the word frequencies and print the result\n",
    "result = word_frequencies(input_words)\n",
    "print(\"Word Frequencies:\", result)\n"
   ]
  },
  {
   "cell_type": "code",
   "execution_count": 47,
   "id": "d0341c72-4da9-424b-8eb7-2455662d8b6d",
   "metadata": {},
   "outputs": [
    {
     "name": "stdout",
     "output_type": "stream",
     "text": [
      "Merged Dictionary: {'a': 10, 'b': 60, 'c': 80, 'd': 60}\n"
     ]
    }
   ],
   "source": [
    "#32. Write a code that takes two dictionaries as input and merges them into a single dictionary.If there are common keys,the values should be added together.\n",
    "#code -\n",
    "def merge_dicts(dict1, dict2):\n",
    "    \"\"\"\n",
    "    Function to merge two dictionaries. If keys are common, their values are added together.\n",
    "\n",
    "    Args:\n",
    "    dict1 (dict): The first dictionary.\n",
    "    dict2 (dict): The second dictionary.\n",
    "\n",
    "    Returns:\n",
    "    dict: A dictionary with merged keys and values.\n",
    "    \"\"\"\n",
    "    merged_dict = dict1.copy()  # Create a copy of dict1 to avoid modifying it\n",
    "    \n",
    "    for key, value in dict2.items():\n",
    "        if key in merged_dict:\n",
    "            merged_dict[key] += value  # Add values if key is already in merged_dict\n",
    "        else:\n",
    "            merged_dict[key] = value  # If key is not in dict1, add the key-value pair\n",
    "\n",
    "    return merged_dict\n",
    "\n",
    "# Example usage\n",
    "dict1 = {'a': 10, 'b': 20, 'c': 30}\n",
    "dict2 = {'b': 40, 'c': 50, 'd': 60}\n",
    "\n",
    "# Merge the dictionaries\n",
    "result = merge_dicts(dict1, dict2)\n",
    "print(\"Merged Dictionary:\", result)\n"
   ]
  },
  {
   "cell_type": "code",
   "execution_count": 48,
   "id": "11daad04-ee9b-42fa-ad8f-19226e5426a9",
   "metadata": {},
   "outputs": [
    {
     "name": "stdout",
     "output_type": "stream",
     "text": [
      "Value: Hello, World!\n"
     ]
    }
   ],
   "source": [
    "#33. Write a code to access a value in a nested dictionary.The function should take the dictionary and a list of keys as input and return the corresponding value.If any of the keys do not exist in the dictionary,the function should return none.\n",
    "#code -\n",
    "def get_nested_value(nested_dict, keys):\n",
    "    \"\"\"\n",
    "    Function to access a value in a nested dictionary using a list of keys.\n",
    "\n",
    "    Args:\n",
    "    nested_dict (dict): The nested dictionary.\n",
    "    keys (list): A list of keys to access the value.\n",
    "\n",
    "    Returns:\n",
    "    The value corresponding to the nested keys, or None if any key is not found.\n",
    "    \"\"\"\n",
    "    for key in keys:\n",
    "        # If the key does not exist in the current level of the dictionary, return None\n",
    "        if key in nested_dict:\n",
    "            nested_dict = nested_dict[key]  # Move to the next level of the dictionary\n",
    "        else:\n",
    "            return None\n",
    "    return nested_dict  # Return the final value when all keys are found\n",
    "\n",
    "# Example usage\n",
    "nested_dict = {\n",
    "    'a': {\n",
    "        'b': {\n",
    "            'c': 'Hello, World!'\n",
    "        }\n",
    "    }\n",
    "}\n",
    "\n",
    "keys = ['a', 'b', 'c']  # List of keys to access\n",
    "result = get_nested_value(nested_dict, keys)\n",
    "print(\"Value:\", result)  # Output: Hello, World!\n"
   ]
  },
  {
   "cell_type": "code",
   "execution_count": 49,
   "id": "c4224bc0-c7b7-45c5-aece-e13d973114e0",
   "metadata": {},
   "outputs": [
    {
     "name": "stdout",
     "output_type": "stream",
     "text": [
      "Sorted Dictionary (Ascending): {'cherry': 20, 'banana': 30, 'date': 40, 'apple': 50}\n",
      "Sorted Dictionary (Descending): {'apple': 50, 'date': 40, 'banana': 30, 'cherry': 20}\n"
     ]
    }
   ],
   "source": [
    "#34. Write a code that takes a dictionary as input and return a sorted version of it based on the values.You can choose whether to sort in ascending or descending order.\n",
    "#code -\n",
    "def sort_dict_by_value(input_dict, reverse=False):\n",
    "    \"\"\"\n",
    "    Function to sort a dictionary by its values.\n",
    "\n",
    "    Args:\n",
    "    input_dict (dict): The dictionary to be sorted.\n",
    "    reverse (bool): If True, sort in descending order. Default is False (ascending order).\n",
    "\n",
    "    Returns:\n",
    "    dict: A new dictionary sorted by its values.\n",
    "    \"\"\"\n",
    "    # Sort the dictionary by its values and return the result as a new dictionary\n",
    "    sorted_dict = dict(sorted(input_dict.items(), key=lambda item: item[1], reverse=reverse))\n",
    "    \n",
    "    return sorted_dict\n",
    "\n",
    "# Example usage\n",
    "input_dict = {'apple': 50, 'banana': 30, 'cherry': 20, 'date': 40}\n",
    "\n",
    "# Sort in ascending order (default)\n",
    "sorted_dict_asc = sort_dict_by_value(input_dict)\n",
    "print(\"Sorted Dictionary (Ascending):\", sorted_dict_asc)\n",
    "\n",
    "# Sort in descending order\n",
    "sorted_dict_desc = sort_dict_by_value(input_dict, reverse=True)\n",
    "print(\"Sorted Dictionary (Descending):\", sorted_dict_desc)\n"
   ]
  },
  {
   "cell_type": "code",
   "execution_count": 50,
   "id": "f0b65ace-0831-49d2-8fa0-82b8e3d01d85",
   "metadata": {},
   "outputs": [
    {
     "name": "stdout",
     "output_type": "stream",
     "text": [
      "Inverted Dictionary: {1: ['a', 'c'], 2: ['b'], 3: ['d']}\n"
     ]
    }
   ],
   "source": [
    "#35. Write a code that inverts a dictionary,swapping keys and values.Ensure that the inverted dictionary correctly handles cases where multiple keys have the same value by storing the keys as a list in the inverted dictionary.\n",
    "#code -\n",
    "def invert_dict(input_dict):\n",
    "    \"\"\"\n",
    "    Function to invert a dictionary, swapping keys and values.\n",
    "    If multiple keys have the same value, store the keys as a list.\n",
    "\n",
    "    Args:\n",
    "    input_dict (dict): The dictionary to be inverted.\n",
    "\n",
    "    Returns:\n",
    "    dict: The inverted dictionary with keys and values swapped.\n",
    "    \"\"\"\n",
    "    inverted_dict = {}\n",
    "\n",
    "    for key, value in input_dict.items():\n",
    "        if value in inverted_dict:\n",
    "            # If the value is already in the inverted dictionary, append the key to the list\n",
    "            inverted_dict[value].append(key)\n",
    "        else:\n",
    "            # If the value is not in the inverted dictionary, create a new list with the key\n",
    "            inverted_dict[value] = [key]\n",
    "\n",
    "    return inverted_dict\n",
    "\n",
    "# Example usage\n",
    "input_dict = {'a': 1, 'b': 2, 'c': 1, 'd': 3}\n",
    "\n",
    "# Invert the dictionary\n",
    "inverted_dict = invert_dict(input_dict)\n",
    "print(\"Inverted Dictionary:\", inverted_dict)\n"
   ]
  },
  {
   "cell_type": "code",
   "execution_count": null,
   "id": "94e4f415-3d94-4758-8ceb-bdf6a72abb82",
   "metadata": {},
   "outputs": [],
   "source": []
  }
 ],
 "metadata": {
  "kernelspec": {
   "display_name": "Python 3 (ipykernel)",
   "language": "python",
   "name": "python3"
  },
  "language_info": {
   "codemirror_mode": {
    "name": "ipython",
    "version": 3
   },
   "file_extension": ".py",
   "mimetype": "text/x-python",
   "name": "python",
   "nbconvert_exporter": "python",
   "pygments_lexer": "ipython3",
   "version": "3.13.0"
  }
 },
 "nbformat": 4,
 "nbformat_minor": 5
}
