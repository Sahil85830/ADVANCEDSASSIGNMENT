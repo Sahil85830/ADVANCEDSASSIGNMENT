{
 "cells": [
  {
   "cell_type": "code",
   "execution_count": null,
   "id": "bdd63bd0-9eaa-464f-abca-809f891e4a1a",
   "metadata": {},
   "outputs": [],
   "source": [
    "#1.  What is NumPy, and why is it widely used in Python?\n",
    "'''NumPy, short for Numerical Python, is a powerful Python library widely used for numerical computations. It provides efficient support for:\n",
    "\n",
    "    Multidimensional Arrays: Core data structure for handling large datasets.\n",
    "    Mathematical Functions: A wide range of operations like algebra, statistics, and linear algebra.\n",
    "    Performance: Faster computations using optimized C code underneath.\n",
    "    Integration: Works seamlessly with libraries like SciPy, pandas, and matplotlib.\n",
    "    \n",
    "NumPy is widely used in data science, machine learning, and scientific computing for its speed and efficiency.'''"
   ]
  },
  {
   "cell_type": "code",
   "execution_count": 1,
   "id": "0c5ed07f-1e24-45e8-b73b-16dfe4da8133",
   "metadata": {},
   "outputs": [
    {
     "name": "stdout",
     "output_type": "stream",
     "text": [
      "[[11 12 13]\n",
      " [21 22 23]\n",
      " [31 32 33]]\n"
     ]
    }
   ],
   "source": [
    "#2. How does broadcasting work in NumPy?\n",
    "'''Broadcasting in NumPy allows operations between arrays of different shapes by expanding the smaller array's dimensions to match the larger one. Rules for broadcasting:\n",
    "\n",
    "1. If dimensions differ, the smaller array is padded with ones on the left.\n",
    "2. Arrays are compatible if corresponding dimensions are equal or one of them is 1.\n",
    "3. The smaller array is \"stretched\" to match the larger array's shape during operations.'''\n",
    "\n",
    "#Example:  \n",
    "\n",
    "import numpy as np\n",
    "a = np.array([1, 2, 3])\n",
    "b = np.array([[10], [20], [30]])\n",
    "result = a + b\n",
    "print(result)\n",
    "\n"
   ]
  },
  {
   "cell_type": "code",
   "execution_count": 4,
   "id": "62c4173f-9fdb-4722-bdd3-1718dbc8d02e",
   "metadata": {},
   "outputs": [
    {
     "name": "stdout",
     "output_type": "stream",
     "text": [
      "    Name  Age\n",
      "0  Alice   25\n",
      "1    Bob   30\n"
     ]
    }
   ],
   "source": [
    "#3.  What is a Pandas DataFrame?\n",
    "'''A **Pandas DataFrame** is a two-dimensional, tabular data structure in Python, similar to a spreadsheet or SQL table. It has rows and columns, where each column can hold a different type of data (e.g., integers, floats, strings). DataFrames are widely used for data manipulation and analysis due to their flexibility and ease of use.\n",
    "\n",
    "Key features:\n",
    "- Indexing for rows and columns.\n",
    "- Ability to perform operations on rows/columns.\n",
    "- Integration with NumPy for numerical computations.'''\n",
    "\n",
    "#Example:  \n",
    "\n",
    "import pandas as pd\n",
    "\n",
    "data = {'Name': ['Alice', 'Bob'], 'Age': [25, 30]}\n",
    "df = pd.DataFrame(data)\n",
    "print(df)\n",
    "  \n"
   ]
  },
  {
   "cell_type": "code",
   "execution_count": 5,
   "id": "99e39dc1-4329-49ec-bb1e-79906e342ee7",
   "metadata": {},
   "outputs": [
    {
     "name": "stdout",
     "output_type": "stream",
     "text": [
      "Category\n",
      "A    25\n",
      "B    45\n",
      "Name: Value, dtype: int64\n"
     ]
    }
   ],
   "source": [
    "#4. Explain the use of the groupby() method in Pandas.\n",
    "'''The `groupby()` method in Pandas is used to group data based on one or more columns.\n",
    "It allows for applying aggregation functions like `sum()`, `mean()`, or custom functions to grouped data.\n",
    "This is useful for analyzing data by categories or performing operations such as splitting, applying, and combining.'''\n",
    "\n",
    "# Example:\n",
    "\n",
    "\n",
    "import pandas as pd\n",
    "\n",
    "# Sample DataFrame\n",
    "data = {'Category': ['A', 'B', 'A', 'B'], 'Value': [10, 20, 15, 25]}\n",
    "df = pd.DataFrame(data)\n",
    "\n",
    "# Group by 'Category' and calculate the sum of 'Value'\n",
    "grouped = df.groupby('Category')['Value'].sum()\n",
    "print(grouped)\n",
    "\n",
    "\n"
   ]
  },
  {
   "cell_type": "code",
   "execution_count": null,
   "id": "3f9799c9-f631-43f5-85ff-9ab8ce1d9208",
   "metadata": {},
   "outputs": [],
   "source": [
    "#5. Why is Seaborn preferred for statistical visualizations?\n",
    "'''Seaborn is preferred for statistical visualizations because it offers:\n",
    "\n",
    "1. **Simplified Syntax**: High-level functions make complex visualizations easy to create.\n",
    "2. **Beautiful Defaults**: Aesthetic designs enhance clarity and appeal without manual tweaks.\n",
    "3. **Statistical Insights**: Built-in functions for aggregation and statistical transformations.\n",
    "4. **Integration with Pandas**: Works seamlessly with DataFrames for efficient data manipulation.\n",
    "5. **Variety of Plots**: Supports advanced plots like heatmaps, pair plots, and violin plots for statistical data analysis.\n",
    "\n",
    "Seaborn simplifies exploratory data analysis by combining aesthetics with functionality.'''"
   ]
  },
  {
   "cell_type": "code",
   "execution_count": null,
   "id": "a64cefe2-f51f-44cb-a9c4-49f3960ee4d5",
   "metadata": {},
   "outputs": [],
   "source": [
    "#6. What are the differences between NumPy arrays and Python lists?\n",
    "'''Here are the key differences between NumPy arrays and Python lists:\n",
    "\n",
    "1. **Performance**: NumPy arrays are faster due to optimized C code, while lists are slower as they are implemented in Python.\n",
    "2. **Memory**: NumPy arrays use less memory, storing elements of the same type, whereas lists can store mixed data types and are memory-intensive.\n",
    "3. **Functionality**: Arrays support vectorized operations and broadcasting, while lists require explicit iteration.\n",
    "4. **Data Types**: Arrays are homogeneous; lists are heterogeneous.\n",
    "5. **Built-in Operations**: Arrays have extensive mathematical operations; lists do not. \n",
    "\n",
    "NumPy arrays are ideal for numerical computations, whereas lists are more general-purpose.'''"
   ]
  },
  {
   "cell_type": "code",
   "execution_count": null,
   "id": "030cbad9-aaf2-4362-800e-99682edf4c4e",
   "metadata": {},
   "outputs": [],
   "source": [
    "#7. What is a heatmap, and when should it be used?\n",
    "'''A **heatmap** is a data visualization technique that uses color gradients to represent data values, often in a grid-like format. It is commonly used to highlight patterns, correlations, or distributions within datasets.\n",
    "\n",
    "### When to Use:\n",
    "- To visualize relationships between variables.\n",
    "- To represent matrices or tabular data.\n",
    "- To show correlations in a dataset (e.g., using a correlation matrix).\n",
    "- In fields like biology (e.g., gene expression) or business analytics (e.g., website click heatmaps).\n",
    "\n",
    "Seaborn is a popular Python library for creating heatmaps.'''"
   ]
  },
  {
   "cell_type": "code",
   "execution_count": 6,
   "id": "d8830d8d-e01b-4f0b-89dd-6057c5d2bb6b",
   "metadata": {},
   "outputs": [],
   "source": [
    "#8. What does the term “vectorized operation” mean in NumPy?\n",
    "'''In NumPy, **vectorized operations** refer to performing mathematical or logical operations on entire arrays without explicit loops. This is achieved by applying operations element-wise, leveraging NumPy's optimized C-based backend for faster computations.\n",
    "\n",
    "### Advantages:\n",
    "- **Efficiency**: Eliminates the need for Python-level for-loops, making operations significantly faster.\n",
    "- **Readability**: Code is simpler and more expressive.\n",
    "- **Scalability**: Handles large datasets easily.'''\n",
    "\n",
    "#For example:\n",
    "\n",
    "import numpy as np\n",
    "a = np.array([1, 2, 3])\n",
    "b = np.array([4, 5, 6])\n",
    "result = a + b  # Element-wise addition\n",
    "\n",
    "#Here, the addition is vectorized, applying directly to all elements."
   ]
  },
  {
   "cell_type": "code",
   "execution_count": null,
   "id": "3a286bac-b222-4389-bf8e-d7af480917f4",
   "metadata": {},
   "outputs": [],
   "source": [
    "#9. How does Matplotlib differ from Plotly?\n",
    "'''**Matplotlib** and **Plotly** differ in their features and use cases:\n",
    "\n",
    "- **Matplotlib**:\n",
    "  - Primarily used for static, 2D visualizations.\n",
    "  - Excellent for detailed and customizable plots.\n",
    "  - Best for publications and simple visualizations.\n",
    "  - Syntax can be more complex for advanced plots.\n",
    "\n",
    "- **Plotly**:\n",
    "  - Designed for interactive, web-based visualizations.\n",
    "  - Provides rich features like zooming, panning, and tooltips.\n",
    "  - Easier for 3D plots, dashboards, and complex visualizations.\n",
    "  - Requires additional setup for full offline functionality.\n",
    "\n",
    "In essence, Matplotlib excels in simplicity and control, while Plotly is better for interactive and dynamic outputs.'''"
   ]
  },
  {
   "cell_type": "code",
   "execution_count": null,
   "id": "9ad9981a-4859-4e9f-bece-1fcd255374c7",
   "metadata": {},
   "outputs": [],
   "source": [
    "#10. What is the significance of hierarchical indexing in Pandas?\n",
    "'''Hierarchical indexing in Pandas allows for multi-level indexing, enabling more complex data structures.\n",
    "It is especially useful when dealing with multi-dimensional data, as it lets you organize and access \n",
    "data in a more intuitive and structured way. Hierarchical indexing makes it easier to perform operations \n",
    "on subsets of data, such as slicing, grouping, or pivoting. This feature is beneficial when working with \n",
    "large datasets with multiple dimensions or categories, as it enhances data management and analysis flexibility.'''"
   ]
  },
  {
   "cell_type": "code",
   "execution_count": null,
   "id": "e071086e-5871-40da-8484-9cfa8b1e4e27",
   "metadata": {},
   "outputs": [],
   "source": [
    "#11. What is the role of Seaborn’s pairplot() function?\n",
    "'''The `pairplot()` function in Seaborn is used to visualize relationships between multiple variables\n",
    "in a dataset by creating pairwise scatter plots for numerical columns. It also includes diagonal plots\n",
    "to show univariate distributions for each variable. This function is helpful for exploratory data \n",
    "analysis, allowing you to quickly observe correlations, clusters, or trends in the data. For categorical\n",
    "data, `hue` can be used to distinguish different groups with colors, enhancing visualization and understanding.'''"
   ]
  },
  {
   "cell_type": "code",
   "execution_count": null,
   "id": "4d3a1ded-b7d1-485c-abf5-dd2f04e975e1",
   "metadata": {},
   "outputs": [],
   "source": [
    "#12. What is the purpose of the describe() function in Pandas?\n",
    "'''The `describe()` function in Pandas provides a statistical summary of a DataFrame or Series, \n",
    "including count, mean, standard deviation, minimum, quartiles, and maximum for numeric data.\n",
    "For categorical data, it shows count, unique values, top (most frequent) value, and its frequency.\n",
    "This function helps quickly understand the distribution and key metrics of the dataset,\n",
    "making it useful for exploratory data analysis.'''"
   ]
  },
  {
   "cell_type": "code",
   "execution_count": null,
   "id": "007beccb-860f-4c77-8c71-652fe12ba2d0",
   "metadata": {},
   "outputs": [],
   "source": [
    "#13. Why is handling missing data important in Pandas?\n",
    "'''Handling missing data is crucial in Pandas because missing values can lead to inaccurate analyses\n",
    "and errors in computations. Addressing them ensures data integrity and helps in making meaningful decisions.\n",
    "Pandas provides tools to identify, fill, or remove missing data, allowing users to maintain the dataset's \n",
    "usability while minimizing bias or distortion caused by incomplete information. Proper handling is essential\n",
    "for reliable machine learning models and data visualizations.'''"
   ]
  },
  {
   "cell_type": "code",
   "execution_count": null,
   "id": "c37ed936-31c9-41d3-b224-028ab41cdfec",
   "metadata": {},
   "outputs": [],
   "source": [
    "#14. What are the benefits of using Plotly for data visualization?\n",
    "'''Plotly offers several benefits for data visualization:\n",
    "\n",
    "1. **Interactive Visualizations**: Unlike static plots, Plotly provides dynamic and interactive charts for better user engagement.\n",
    "2. **Wide Variety of Charts**: Includes line plots, scatter plots, 3D plots, and more.\n",
    "3. **Customization**: Highly customizable layouts and styles.\n",
    "4. **Cross-Platform Support**: Visualizations are compatible with web applications, Jupyter notebooks, and dashboards.\n",
    "5. **Integration**: Supports Python, R, MATLAB, and JavaScript.\n",
    "6. **Export Options**: Visualizations can be exported as static images or embedded in HTML for sharing.\n",
    "\n",
    "These features make Plotly versatile and powerful for modern data visualization.'''"
   ]
  },
  {
   "cell_type": "code",
   "execution_count": null,
   "id": "3fd77c81-e210-491a-8c8f-2ab1fefcba00",
   "metadata": {},
   "outputs": [],
   "source": [
    "#15. How does NumPy handle multidimensional arrays?\n",
    "'''NumPy efficiently handles multidimensional arrays using its **ndarray** object, which is designed for high-performance numerical computations. Key features include:\n",
    "\n",
    "1. **Shape and Dimensions**: Arrays can have any number of dimensions, defined by their shape (e.g., 2D matrices or 3D tensors).\n",
    "2. **Indexing and Slicing**: Supports accessing and modifying data using advanced indexing.\n",
    "3. **Broadcasting**: Enables operations across arrays of different shapes.\n",
    "4. **Efficient Memory**: Stores data contiguously in memory, reducing overhead.\n",
    "5. **Mathematical Operations**: Performs vectorized operations and element-wise computations on arrays efficiently.'''"
   ]
  },
  {
   "cell_type": "code",
   "execution_count": null,
   "id": "690cdb54-c63b-47b2-821e-1259598d7b6f",
   "metadata": {},
   "outputs": [],
   "source": [
    "#16.  What is the role of Bokeh in data visualization?\n",
    "'''Bokeh is a Python library designed for creating interactive, web-ready data visualizations. It enables the development of dynamic plots, dashboards, and web applications. Key features include:\n",
    "\n",
    "- **Interactivity**: Supports hover tools, sliders, and linked plots.\n",
    "- **Versatility**: Handles large datasets efficiently and provides integration with Pandas, NumPy, and other tools.\n",
    "- **Web Integration**: Generates JavaScript-based visuals that can be embedded in web pages.\n",
    "- **Customizability**: Offers high flexibility to design complex visualizations tailored to specific needs. \n",
    "\n",
    "It's ideal for creating real-time or highly interactive data displays.'''"
   ]
  },
  {
   "cell_type": "code",
   "execution_count": null,
   "id": "2286e530-9486-455c-8f49-34b7630e2f17",
   "metadata": {},
   "outputs": [],
   "source": [
    "#17. Explain the difference between apply() and map() in Pandas.\n",
    "'''In Pandas:\n",
    "\n",
    "- **`apply()`**: Used on DataFrames or Series to apply a function along an axis. It can work with rows or columns and supports complex operations.\n",
    "\n",
    "  Example:  \n",
    "  \n",
    "  df['new_column'] = df['existing_column'].apply(lambda x: x ** 2)\n",
    "\n",
    "\n",
    "- **`map()`**: Used only on Series, primarily for element-wise transformations with a function, dictionary, or Series.\n",
    "\n",
    "  Example:  \n",
    " \n",
    "  df['existing_column'] = df['existing_column'].map(lambda x: x.upper())\n",
    "  \n",
    "\n",
    "Use `apply()` for more flexible and complex operations, while `map()` is simpler and Series-specific.'''"
   ]
  },
  {
   "cell_type": "code",
   "execution_count": null,
   "id": "5f56ccdd-f8aa-4d64-bcfa-1f12fec8983b",
   "metadata": {},
   "outputs": [],
   "source": [
    "#18.  What are some advanced features of NumPy?\n",
    "'''Some advanced features of NumPy include:\n",
    "\n",
    "1. **Multidimensional Arrays**: Support for N-dimensional arrays with efficient operations.\n",
    "2. **Broadcasting**: Perform arithmetic operations on arrays with different shapes.\n",
    "3. **Linear Algebra**: Built-in functions for matrix multiplication, decomposition, and eigenvalues.\n",
    "4. **Fourier Transforms**: Support for fast Fourier transforms.\n",
    "5. **Random Sampling**: Generate random numbers and perform statistical simulations.\n",
    "6. **Structured Arrays**: Allow arrays with mixed data types.\n",
    "7. **Masked Arrays**: Handle arrays with missing or invalid data.\n",
    "8. **Memory-Mapped Files**: Work with large datasets without loading the entire array into memory.'''"
   ]
  },
  {
   "cell_type": "code",
   "execution_count": null,
   "id": "09910d4b-0768-402d-9cd6-0cb74b9aff27",
   "metadata": {},
   "outputs": [],
   "source": [
    "#19. How does Pandas simplify time series analysis?\n",
    "'''Pandas simplifies time series analysis through:\n",
    "\n",
    "1. **Datetime Indexing**: Allows working with time-based indexing and slicing.\n",
    "2. **Resampling**: Enables changing the frequency of time series data (e.g., converting daily data to monthly averages).\n",
    "3. **Rolling and Expanding Windows**: Facilitates operations like moving averages or cumulative sums.\n",
    "4. **Datetime Functions**: Provides tools to manipulate and extract components like year, month, or day.\n",
    "5. **Handling Missing Data**: Easily fills or interpolates gaps in time series.\n",
    "6. **Plotting**: Offers built-in visualization for time series trends and patterns.'''"
   ]
  },
  {
   "cell_type": "code",
   "execution_count": null,
   "id": "b286decc-4d47-45d0-bc79-19b7fefab68d",
   "metadata": {},
   "outputs": [],
   "source": [
    "#20. What is the role of a pivot table in Pandas?\n",
    "'''In Pandas, a pivot table is used to summarize, aggregate, and reshape data.\n",
    "It allows you to group data by one or more keys (index and columns), apply\n",
    "an aggregation function (like sum, mean, or count), and organize the results into\n",
    "a tabular format for easy analysis. Pivot tables are particularly useful for exploring\n",
    "and summarizing large datasets in a structured way. \n",
    "\n",
    "For example, you can analyze sales data by region and product category with minimal code, helping to uncover insights effectively.'''"
   ]
  },
  {
   "cell_type": "code",
   "execution_count": null,
   "id": "20f0f801-3e74-422c-8e08-c249a4c4ed3d",
   "metadata": {},
   "outputs": [],
   "source": [
    "#21. Why is NumPy’s array slicing faster than Python’s list slicing?\n",
    "'''NumPy’s array slicing is faster than Python’s list slicing because NumPy arrays are stored\n",
    "in contiguous blocks of memory, which allows for more efficient access and manipulation.\n",
    "In contrast, Python lists are more flexible but require more overhead due to their dynamic nature.\n",
    "NumPy uses optimized C code for slicing operations, reducing the time spent on memory management\n",
    "and improving performance, especially when dealing with large datasets. Additionally, NumPy avoids\n",
    "the need for creating new copies of data, as slicing creates views instead of new arrays.'''"
   ]
  },
  {
   "cell_type": "code",
   "execution_count": null,
   "id": "ccc1d148-c6b5-4f24-945e-a351592e82aa",
   "metadata": {},
   "outputs": [],
   "source": [
    "#22. What are some common use cases for Seaborn?\n",
    "'''Seaborn is commonly used for:\n",
    "\n",
    "1. **Statistical Visualization**: Creating complex visualizations with minimal code, such as heatmaps, bar plots, scatter plots, and distribution plots.\n",
    "2. **Correlation Matrices**: Visualizing correlations between multiple variables with heatmaps or pair plots.\n",
    "3. **Categorical Data**: Plotting categorical data distributions, including box plots, violin plots, and count plots.\n",
    "4. **Regression Analysis**: Easily plotting regression lines with scatterplots and linear models.\n",
    "\n",
    "Seaborn simplifies complex statistical visualizations, making it easier to explore and understand relationships in data.'''"
   ]
  },
  {
   "cell_type": "code",
   "execution_count": null,
   "id": "7a23e8cd-fe6e-43d8-ba2b-4897ad3a8e30",
   "metadata": {},
   "outputs": [],
   "source": [
    "# PRACTICAL QUESTIONS"
   ]
  },
  {
   "cell_type": "code",
   "execution_count": 1,
   "id": "48e71f79-a59a-4cf2-89f1-81a1056d3a6b",
   "metadata": {},
   "outputs": [
    {
     "name": "stdout",
     "output_type": "stream",
     "text": [
      "[ 6 15 24]\n"
     ]
    }
   ],
   "source": [
    "#1. How do you create a 2D NumPy array and calculate the sum of each row?\n",
    "'''To create a 2D NumPy array and calculate the sum of each row, you can use the following code:'''\n",
    "import numpy as np\n",
    "\n",
    "# Create a 2D NumPy array\n",
    "array = np.array([[1, 2, 3], [4, 5, 6], [7, 8, 9]])\n",
    "\n",
    "# Calculate the sum of each row\n",
    "row_sums = np.sum(array, axis=1) #Here, axis=1 specifies summing along the rows.\n",
    "\n",
    "print(row_sums)\n"
   ]
  },
  {
   "cell_type": "code",
   "execution_count": 2,
   "id": "0a0592b0-a790-41a0-bfa8-54a659e435ef",
   "metadata": {},
   "outputs": [
    {
     "name": "stdout",
     "output_type": "stream",
     "text": [
      "The mean age is: 26.25\n"
     ]
    }
   ],
   "source": [
    "#2. Write a Pandas script to find the mean of a specific column in a DataFrame.\n",
    "\n",
    "import pandas as pd\n",
    "\n",
    "# Sample DataFrame\n",
    "data = {'Name': ['Alice', 'Bob', 'Charlie', 'David'],\n",
    "        'Age': [24, 27, 22, 32]}\n",
    "\n",
    "df = pd.DataFrame(data)\n",
    "\n",
    "# Calculate the mean of the 'Age' column\n",
    "mean_age = df['Age'].mean()\n",
    "\n",
    "print(f\"The mean age is: {mean_age}\")\n"
   ]
  },
  {
   "cell_type": "code",
   "execution_count": 8,
   "id": "43c6f53e-7740-4149-9614-9a857e631b13",
   "metadata": {},
   "outputs": [
    {
     "data": {
      "image/png": "[encoded data removed]",
      "text/plain": [
       "<Figure size 640x480 with 1 Axes>"
      ]
     },
     "metadata": {},
     "output_type": "display_data"
    }
   ],
   "source": [
    "#3. Create a scatter plot using Matplotlib.\n",
    "\n",
    "import matplotlib.pyplot as plt\n",
    "\n",
    "# Sample data\n",
    "x = [1, 2, 3, 4, 5]\n",
    "y = [2, 4, 6, 8, 10]\n",
    "\n",
    "# Create scatter plot\n",
    "plt.scatter(x, y)\n",
    "\n",
    "# Adding title and labels\n",
    "plt.title('Scatter Plot Example')\n",
    "plt.xlabel('X-axis')\n",
    "plt.ylabel('Y-axis')\n",
    "\n",
    "# Show plot\n",
    "plt.show()\n"
   ]
  },
  {
   "cell_type": "code",
   "execution_count": 9,
   "id": "ff486e2e-d454-4227-9aa1-ec8cc7356615",
   "metadata": {},
   "outputs": [
    {
     "data": {
      "text/plain": [
       "<Axes: >"
      ]
     },
     "execution_count": 9,
     "metadata": {},
     "output_type": "execute_result"
    },
    {
     "data": {
      "image/png": "[encoded data removed]",
      "text/plain": [
       "<Figure size 640x480 with 2 Axes>"
      ]
     },
     "metadata": {},
     "output_type": "display_data"
    }
   ],
   "source": [
    "#4. How do you calculate the correlation matrix using Seaborn and visualize it with a heatmap?\n",
    "\n",
    "import seaborn as sns\n",
    "import pandas as pd\n",
    "\n",
    "# Example DataFrame\n",
    "data = pd.DataFrame({\n",
    "    'A': [1, 2, 3, 4, 5],\n",
    "    'B': [5, 4, 3, 2, 1],\n",
    "    'C': [1, 3, 5, 7, 9]\n",
    "})\n",
    "\n",
    "# Calculate correlation matrix\n",
    "corr_matrix = data.corr()\n",
    "\n",
    "# Visualize the correlation matrix using a heatmap\n",
    "sns.heatmap(corr_matrix, annot=True, cmap='coolwarm')\n"
   ]
  },
  {
   "cell_type": "code",
   "execution_count": null,
   "id": "b1054f6b-ce3b-416f-bf3d-b26c97983fc8",
   "metadata": {},
   "outputs": [],
   "source": [
    "#5. Generate a bar plot using Plotly.\n",
    "\n",
    "import plotly.graph_objects as go\n",
    "import plotly.io as pio\n",
    "\n",
    "# Set the default renderer to display in Jupyter Notebook\n",
    "pio.renderers.default = \"notebook\"\n",
    "\n",
    "# Data for the bar plot\n",
    "x = ['A', 'B', 'C', 'D']\n",
    "y = [10, 20, 30, 40]\n",
    "\n",
    "# Create the bar plot\n",
    "fig = go.Figure(data=[go.Bar(x=x, y=y)])\n",
    "\n",
    "# Show the plot\n",
    "fig.show()\n"
   ]
  },
  {
   "cell_type": "code",
   "execution_count": 2,
   "id": "98d0f26c-db5d-422a-aae4-96e13115ccf5",
   "metadata": {},
   "outputs": [
    {
     "name": "stdout",
     "output_type": "stream",
     "text": [
      "      Name  Age  Age_in_5_Years\n",
      "0    Alice   25              30\n",
      "1      Bob   30              35\n",
      "2  Charlie   35              40\n"
     ]
    }
   ],
   "source": [
    "#6. Create a DataFrame and add a new column based on an existing column.\n",
    "\n",
    "import pandas as pd\n",
    "\n",
    "# Create a DataFrame\n",
    "data = {'Name': ['Alice', 'Bob', 'Charlie'],\n",
    "        'Age': [25, 30, 35]}\n",
    "\n",
    "df = pd.DataFrame(data)\n",
    "\n",
    "# Add a new column based on an existing column\n",
    "df['Age_in_5_Years'] = df['Age'] + 5\n",
    "\n",
    "print(df)\n"
   ]
  },
  {
   "cell_type": "code",
   "execution_count": 3,
   "id": "61825553-2d94-47df-b579-5d27717a3715",
   "metadata": {},
   "outputs": [
    {
     "name": "stdout",
     "output_type": "stream",
     "text": [
      "[ 5 12 21 32]\n"
     ]
    }
   ],
   "source": [
    "#7. Write a program to perform element-wise multiplication of two NumPy arrays.\n",
    "\n",
    "import numpy as np\n",
    "\n",
    "# Create two NumPy arrays\n",
    "array1 = np.array([1, 2, 3, 4])\n",
    "array2 = np.array([5, 6, 7, 8])\n",
    "\n",
    "# Perform element-wise multiplication\n",
    "result = array1 * array2\n",
    "\n",
    "# Print the result\n",
    "print(result)\n"
   ]
  },
  {
   "cell_type": "code",
   "execution_count": 4,
   "id": "cfe84bce-3fb0-4bea-bd5e-0ba4d61b2ee5",
   "metadata": {},
   "outputs": [
    {
     "data": {
      "image/png": "[encoded data removed]",
      "text/plain": [
       "<Figure size 640x480 with 1 Axes>"
      ]
     },
     "metadata": {},
     "output_type": "display_data"
    }
   ],
   "source": [
    "#8. Create a line plot with multiple lines using Matplotlib.\n",
    "\n",
    "import matplotlib.pyplot as plt\n",
    "\n",
    "# Data for multiple lines\n",
    "x = [0, 1, 2, 3, 4]\n",
    "y1 = [0, 1, 4, 9, 16]\n",
    "y2 = [0, -1, -4, -9, -16]\n",
    "\n",
    "# Create a line plot with multiple lines\n",
    "plt.plot(x, y1, label='y = x^2', color='b')  # Blue line\n",
    "plt.plot(x, y2, label='y = -x^2', color='r')  # Red line\n",
    "\n",
    "# Adding labels and title\n",
    "plt.xlabel('X-axis')\n",
    "plt.ylabel('Y-axis')\n",
    "plt.title('Multiple Lines Plot')\n",
    "\n",
    "# Show legend\n",
    "plt.legend()\n",
    "\n",
    "# Display the plot\n",
    "plt.show()\n"
   ]
  },
  {
   "cell_type": "code",
   "execution_count": 5,
   "id": "3ece9afc-21ef-46d8-887c-462c04897b63",
   "metadata": {},
   "outputs": [
    {
     "name": "stdout",
     "output_type": "stream",
     "text": [
      "      Name  Age\n",
      "2  Charlie   35\n",
      "3    David   40\n"
     ]
    }
   ],
   "source": [
    "#9. Generate a Pandas DataFrame and filter rows where a column value is greater than a threshold.\n",
    "\n",
    "import pandas as pd\n",
    "\n",
    "# Create a sample DataFrame\n",
    "data = {'Name': ['Alice', 'Bob', 'Charlie', 'David'],\n",
    "        'Age': [25, 30, 35, 40]}\n",
    "df = pd.DataFrame(data)\n",
    "\n",
    "# Define a threshold\n",
    "threshold = 30\n",
    "\n",
    "# Filter rows where 'Age' is greater than the threshold\n",
    "filtered_df = df[df['Age'] > threshold]\n",
    "\n",
    "# Display the filtered DataFrame\n",
    "print(filtered_df)\n"
   ]
  },
  {
   "cell_type": "code",
   "execution_count": 6,
   "id": "f49c38ec-1fd5-4092-894e-c9a6fb869bce",
   "metadata": {},
   "outputs": [
    {
     "data": {
      "image/png": "[encoded data removed]",
      "text/plain": [
       "<Figure size 640x480 with 1 Axes>"
      ]
     },
     "metadata": {},
     "output_type": "display_data"
    }
   ],
   "source": [
    "#10. Create a histogram using Seaborn to visualize a distribution.\n",
    "\n",
    "import seaborn as sns\n",
    "import matplotlib.pyplot as plt\n",
    "\n",
    "# Sample data\n",
    "data = [25, 30, 35, 40, 45, 50, 55, 60, 65, 70]\n",
    "\n",
    "# Create a histogram\n",
    "sns.histplot(data, kde=True)\n",
    "\n",
    "# Show the plot\n",
    "plt.show()\n"
   ]
  },
  {
   "cell_type": "code",
   "execution_count": 7,
   "id": "2bb2f886-759c-4691-ac93-701f883a060d",
   "metadata": {},
   "outputs": [
    {
     "name": "stdout",
     "output_type": "stream",
     "text": [
      "[[19 22]\n",
      " [43 50]]\n"
     ]
    }
   ],
   "source": [
    "#11. Perform matrix multiplication using NumPy.\n",
    "\n",
    "import numpy as np\n",
    "\n",
    "# Define two matrices\n",
    "matrix1 = np.array([[1, 2], [3, 4]])\n",
    "matrix2 = np.array([[5, 6], [7, 8]])\n",
    "\n",
    "# Perform matrix multiplication\n",
    "result = np.dot(matrix1, matrix2)\n",
    "\n",
    "# Print the result\n",
    "print(result)\n"
   ]
  },
  {
   "cell_type": "code",
   "execution_count": 9,
   "id": "4dd6ad74-87d4-4326-b25d-559076db9bda",
   "metadata": {},
   "outputs": [
    {
     "name": "stdout",
     "output_type": "stream",
     "text": [
      "CSV file created successfully!\n",
      "      Name  Age         City\n",
      "0    Alice   25     New York\n",
      "1      Bob   30  Los Angeles\n",
      "2  Charlie   35      Chicago\n"
     ]
    }
   ],
   "source": [
    "#12. Use Pandas to load a CSV file and display its first 5 rows.\n",
    "#creating a csv file.\n",
    "import pandas as pd\n",
    "\n",
    "# Create a DataFrame\n",
    "data = {\n",
    "    'Name': ['Alice', 'Bob', 'Charlie'],\n",
    "    'Age': [25, 30, 35],\n",
    "    'City': ['New York', 'Los Angeles', 'Chicago']\n",
    "}\n",
    "df = pd.DataFrame(data)\n",
    "\n",
    "# Save the DataFrame to a CSV file\n",
    "df.to_csv('example.csv', index=False)\n",
    "\n",
    "print(\"CSV file created successfully!\")\n",
    "\n",
    "#loading a csv file\n",
    "import pandas as pd\n",
    "\n",
    "# Load the CSV file\n",
    "df = pd.read_csv('example.csv')\n",
    "\n",
    "# Display the first 5 rows\n",
    "print(df.head())\n"
   ]
  },
  {
   "cell_type": "code",
   "execution_count": null,
   "id": "071af123-ec93-47c2-8bf6-3b86a913665d",
   "metadata": {},
   "outputs": [],
   "source": [
    "#13. Create a 3D scatter plot using Plotly.\n",
    "\n",
    "import plotly.graph_objects as go\n",
    "\n",
    "# Data for the scatter plot\n",
    "x = [1, 2, 3, 4, 5]\n",
    "y = [10, 11, 12, 13, 14]\n",
    "z = [100, 200, 300, 400, 500]\n",
    "\n",
    "# Create the 3D scatter plot\n",
    "fig = go.Figure(data=[go.Scatter3d(x=x, y=y, z=z, mode='markers')])\n",
    "\n",
    "# Update layout\n",
    "fig.update_layout(title='3D Scatter Plot', \n",
    "                  scene=dict(xaxis_title='X', yaxis_title='Y', zaxis_title='Z'))\n",
    "\n",
    "# Show the plot\n",
    "fig.show()\n"
   ]
  }
 ],
 "metadata": {
  "kernelspec": {
   "display_name": "Python 3 (ipykernel)",
   "language": "python",
   "name": "python3"
  },
  "language_info": {
   "codemirror_mode": {
    "name": "ipython",
    "version": 3
   },
   "file_extension": ".py",
   "mimetype": "text/x-python",
   "name": "python",
   "nbconvert_exporter": "python",
   "pygments_lexer": "ipython3",
   "version": "3.13.0"
  }
 },
 "nbformat": 4,
 "nbformat_minor": 5
}
